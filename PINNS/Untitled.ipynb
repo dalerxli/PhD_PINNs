{
 "cells": [
  {
   "cell_type": "code",
   "execution_count": 1,
   "metadata": {},
   "outputs": [],
   "source": [
    "import sys\n",
    "import numpy as np\n",
    "import scipy.io\n",
    "from pyDOE import lhs\n",
    "from torch import Tensor, ones, stack, load\n",
    "from torch.autograd import grad\n",
    "from torch.utils.data import Dataset\n",
    "import matplotlib.pyplot as plt\n",
    "import matplotlib.gridspec as gridspec"
   ]
  },
  {
   "cell_type": "code",
   "execution_count": 2,
   "metadata": {},
   "outputs": [
    {
     "name": "stdout",
     "output_type": "stream",
     "text": [
      "Was not able to import Horovod. Thus Horovod support is not enabled\n"
     ]
    }
   ],
   "source": [
    "sys.path.append('/Users/juanesteban') \n",
    "import PINNFramework as pf"
   ]
  },
  {
   "cell_type": "code",
   "execution_count": 3,
   "metadata": {},
   "outputs": [],
   "source": [
    "class BoundaryConditionDataset(Dataset):\n",
    "\n",
    "    def __init__(self, nb, lb, ub):\n",
    "        \"\"\"\n",
    "        Constructor of the initial condition dataset\n",
    "        Args:\n",
    "          n0 (int)\n",
    "        \"\"\"\n",
    "        super(type(self)).__init__()\n",
    "        data = scipy.io.loadmat('/Users/juanesteban/PINNS/NeuralSolvers/examples/1D_Schroedinger/NLS.mat')\n",
    "        t = data['tt'].flatten()[:, None]\n",
    "        idx_t = np.random.choice(t.shape[0], nb, replace=False)\n",
    "        tb = t[idx_t, :]\n",
    "        self.x_lb = np.concatenate((0 * tb + lb[0], tb), 1)  # (lb[0], tb)\n",
    "        self.x_ub = np.concatenate((0 * tb + ub[0], tb), 1)  # (ub[0], tb)\n",
    "\n",
    "    def __getitem__(self, idx):\n",
    "        \"\"\"\n",
    "        Returns data for initial state\n",
    "        \"\"\"\n",
    "        return Tensor(self.x_lb).float(), Tensor(self.x_ub).float()\n",
    "\n",
    "    def __len__(self):\n",
    "        \"\"\"\n",
    "        There exists no batch processing. So the size is 1\n",
    "        \"\"\"\n",
    "        return 1\n"
   ]
  },
  {
   "cell_type": "code",
   "execution_count": 4,
   "metadata": {},
   "outputs": [],
   "source": [
    "class InitialConditionDataset(Dataset):\n",
    "\n",
    "    def __init__(self, n0):\n",
    "        \"\"\"\n",
    "        Constructor of the boundary condition dataset\n",
    "        Args:\n",
    "          n0 (int)\n",
    "        \"\"\"\n",
    "        super(type(self)).__init__()\n",
    "        data = scipy.io.loadmat('/Users/juanesteban/PINNS/NeuralSolvers/examples/1D_Schroedinger/NLS.mat')\n",
    "        x = data['x'].flatten()[:, None]\n",
    "        t = data['tt'].flatten()[:, None]\n",
    "        Exact = data['uu']\n",
    "        Exact_u = np.real(Exact)\n",
    "        Exact_v = np.imag(Exact)\n",
    "        idx_x = np.random.choice(x.shape[0], n0, replace=False)\n",
    "        self.x = x[idx_x, :]\n",
    "        self.u = Exact_u[idx_x, 0:1]\n",
    "        self.v = Exact_v[idx_x, 0:1]\n",
    "        self.t = np.zeros(self.x.shape)\n",
    "\n",
    "    def __len__(self):\n",
    "        \"\"\"\n",
    "        There exists no batch processing. So the size is 1\n",
    "        \"\"\"\n",
    "        return 1\n",
    "\n",
    "    def __getitem__(self, idx):\n",
    "        x = np.concatenate([self.x, self.t], axis=1)\n",
    "        y = np.concatenate([self.u, self.v], axis=1)\n",
    "        return Tensor(x).float(), Tensor(y)\n",
    "\n"
   ]
  },
  {
   "cell_type": "code",
   "execution_count": 5,
   "metadata": {},
   "outputs": [
    {
     "name": "stdout",
     "output_type": "stream",
     "text": [
      "x: torch.Size([20000, 2])\n",
      "u: torch.Size([20000])\n",
      "u_x torch.Size([20000])\n",
      "u_xx torch.Size([20000])\n",
      "f_u.shape torch.Size([20000])\n",
      "tensor([-0.0858, -0.0841, -0.0901,  ..., -0.0570, -0.0906, -0.0959],\n",
      "       grad_fn=<AddBackward0>)\n"
     ]
    },
    {
     "name": "stderr",
     "output_type": "stream",
     "text": [
      "/Users/juanesteban/PINNFramework/PDELoss.py:32: UserWarning: The function torch.fft is deprecated and will be removed in PyTorch 1.8. Use the new torch.fft module functions, instead, by importing torch.fft and calling torch.fft.fft or torch.fft.fftn. (Triggered internally at  ../aten/src/ATen/native/SpectralOps.cpp:567.)\n",
      "  C_b=torch.fft(f_i,1)\n"
     ]
    },
    {
     "name": "stdout",
     "output_type": "stream",
     "text": [
      "PINN Loss 79.41515473077727 Epoch 0 from 200\n",
      "x: torch.Size([20000, 2])\n",
      "u: torch.Size([20000])\n",
      "u_x torch.Size([20000])\n",
      "u_xx torch.Size([20000])\n",
      "f_u.shape torch.Size([20000])\n",
      "tensor([-0.1434, -0.1992, -0.1638,  ..., -0.1399, -0.1760, -0.1919],\n",
      "       grad_fn=<AddBackward0>)\n",
      "PINN Loss 348.279412296952 Epoch 1 from 200\n",
      "x: torch.Size([20000, 2])\n",
      "u: torch.Size([20000])\n",
      "u_x torch.Size([20000])\n",
      "u_xx torch.Size([20000])\n",
      "f_u.shape torch.Size([20000])\n",
      "tensor([-0.3238, -0.4242, -0.3632,  ..., -0.3167, -0.3855, -0.4139],\n",
      "       grad_fn=<AddBackward0>)\n",
      "PINN Loss 1615.8809849009224 Epoch 2 from 200\n",
      "x: torch.Size([20000, 2])\n",
      "u: torch.Size([20000])\n",
      "u_x torch.Size([20000])\n",
      "u_xx torch.Size([20000])\n",
      "f_u.shape torch.Size([20000])\n",
      "tensor([-0.5162, -0.6413, -0.5740,  ..., -0.4868, -0.6017, -0.6399],\n",
      "       grad_fn=<AddBackward0>)\n",
      "PINN Loss 3811.197515282246 Epoch 3 from 200\n"
     ]
    },
    {
     "ename": "KeyboardInterrupt",
     "evalue": "",
     "output_type": "error",
     "traceback": [
      "\u001b[0;31m---------------------------------------------------------------------------\u001b[0m",
      "\u001b[0;31mKeyboardInterrupt\u001b[0m                         Traceback (most recent call last)",
      "\u001b[0;32m<ipython-input-5-f2cf5b81ef67>\u001b[0m in \u001b[0;36m<module>\u001b[0;34m\u001b[0m\n\u001b[1;32m     71\u001b[0m                                                               \u001b[0mperiodic_bc_u_x\u001b[0m\u001b[0;34m,\u001b[0m\u001b[0;34m\u001b[0m\u001b[0;34m\u001b[0m\u001b[0m\n\u001b[1;32m     72\u001b[0m                                                               periodic_bc_v_x], use_gpu=False)\n\u001b[0;32m---> 73\u001b[0;31m     \u001b[0mpinn\u001b[0m\u001b[0;34m.\u001b[0m\u001b[0mfit\u001b[0m\u001b[0;34m(\u001b[0m\u001b[0;36m200\u001b[0m\u001b[0;34m,\u001b[0m \u001b[0;34m'Adam'\u001b[0m\u001b[0;34m,\u001b[0m \u001b[0;36m1e-3\u001b[0m\u001b[0;34m)\u001b[0m\u001b[0;34m\u001b[0m\u001b[0;34m\u001b[0m\u001b[0m\n\u001b[0m",
      "\u001b[0;32m~/PINNFramework/PINN.py\u001b[0m in \u001b[0;36mfit\u001b[0;34m(self, epochs, optimizer, learning_rate, lbfgs_finetuning, writing_cylcle, save_model, pinn_path, hpm_path)\u001b[0m\n\u001b[1;32m    312\u001b[0m                 \u001b[0mtraining_data\u001b[0m \u001b[0;34m=\u001b[0m \u001b[0mtraining_data\u001b[0m\u001b[0;34m\u001b[0m\u001b[0;34m\u001b[0m\u001b[0m\n\u001b[1;32m    313\u001b[0m                 \u001b[0moptim\u001b[0m\u001b[0;34m.\u001b[0m\u001b[0mzero_grad\u001b[0m\u001b[0;34m(\u001b[0m\u001b[0;34m)\u001b[0m\u001b[0;34m\u001b[0m\u001b[0;34m\u001b[0m\u001b[0m\n\u001b[0;32m--> 314\u001b[0;31m                 \u001b[0mpinn_loss\u001b[0m \u001b[0;34m=\u001b[0m \u001b[0mself\u001b[0m\u001b[0;34m.\u001b[0m\u001b[0mpinn_loss\u001b[0m\u001b[0;34m(\u001b[0m\u001b[0mtraining_data\u001b[0m\u001b[0;34m)\u001b[0m\u001b[0;34m\u001b[0m\u001b[0;34m\u001b[0m\u001b[0m\n\u001b[0m\u001b[1;32m    315\u001b[0m                 \u001b[0mpinn_loss\u001b[0m\u001b[0;34m.\u001b[0m\u001b[0mbackward\u001b[0m\u001b[0;34m(\u001b[0m\u001b[0;34m)\u001b[0m\u001b[0;34m\u001b[0m\u001b[0;34m\u001b[0m\u001b[0m\n\u001b[1;32m    316\u001b[0m                 \u001b[0;32mif\u001b[0m \u001b[0;32mnot\u001b[0m \u001b[0mself\u001b[0m\u001b[0;34m.\u001b[0m\u001b[0mrank\u001b[0m\u001b[0;34m:\u001b[0m\u001b[0;34m\u001b[0m\u001b[0;34m\u001b[0m\u001b[0m\n",
      "\u001b[0;32m~/PINNFramework/PINN.py\u001b[0m in \u001b[0;36mpinn_loss\u001b[0;34m(self, training_data)\u001b[0m\n\u001b[1;32m    223\u001b[0m \u001b[0;34m\u001b[0m\u001b[0m\n\u001b[1;32m    224\u001b[0m         \u001b[0;32mif\u001b[0m \u001b[0mtype\u001b[0m\u001b[0;34m(\u001b[0m\u001b[0mtraining_data\u001b[0m\u001b[0;34m[\u001b[0m\u001b[0;34m\"PDE\"\u001b[0m\u001b[0;34m]\u001b[0m\u001b[0;34m)\u001b[0m \u001b[0;32mis\u001b[0m \u001b[0;32mnot\u001b[0m \u001b[0mlist\u001b[0m\u001b[0;34m:\u001b[0m\u001b[0;34m\u001b[0m\u001b[0;34m\u001b[0m\u001b[0m\n\u001b[0;32m--> 225\u001b[0;31m             \u001b[0mpinn_loss\u001b[0m \u001b[0;34m=\u001b[0m \u001b[0mpinn_loss\u001b[0m \u001b[0;34m+\u001b[0m \u001b[0mself\u001b[0m\u001b[0;34m.\u001b[0m\u001b[0mpde_loss\u001b[0m\u001b[0;34m(\u001b[0m\u001b[0mtraining_data\u001b[0m\u001b[0;34m[\u001b[0m\u001b[0;34m\"PDE\"\u001b[0m\u001b[0;34m]\u001b[0m\u001b[0;34m[\u001b[0m\u001b[0;36m0\u001b[0m\u001b[0;34m]\u001b[0m\u001b[0;34m.\u001b[0m\u001b[0mtype\u001b[0m\u001b[0;34m(\u001b[0m\u001b[0mself\u001b[0m\u001b[0;34m.\u001b[0m\u001b[0mdtype\u001b[0m\u001b[0;34m)\u001b[0m\u001b[0;34m,\u001b[0m \u001b[0mself\u001b[0m\u001b[0;34m.\u001b[0m\u001b[0mmodel\u001b[0m\u001b[0;34m)\u001b[0m\u001b[0;34m\u001b[0m\u001b[0;34m\u001b[0m\u001b[0m\n\u001b[0m\u001b[1;32m    226\u001b[0m         \u001b[0;32melse\u001b[0m\u001b[0;34m:\u001b[0m\u001b[0;34m\u001b[0m\u001b[0;34m\u001b[0m\u001b[0m\n\u001b[1;32m    227\u001b[0m             \u001b[0;32mraise\u001b[0m \u001b[0mValueError\u001b[0m\u001b[0;34m(\u001b[0m\u001b[0;34m\"Training Data for PDE data is a single tensor consists of residual points \"\u001b[0m\u001b[0;34m)\u001b[0m\u001b[0;34m\u001b[0m\u001b[0;34m\u001b[0m\u001b[0m\n",
      "\u001b[0;32m~/PINNFramework/PDELoss.py\u001b[0m in \u001b[0;36m__call__\u001b[0;34m(self, x, model, loss, **kwargs)\u001b[0m\n\u001b[1;32m     38\u001b[0m             \u001b[0;32mreturn\u001b[0m \u001b[0mtorch\u001b[0m\u001b[0;34m.\u001b[0m\u001b[0mtensor\u001b[0m\u001b[0;34m(\u001b[0m\u001b[0;34m[\u001b[0m\u001b[0;34m[\u001b[0m\u001b[0mcomplex\u001b[0m\u001b[0;34m(\u001b[0m\u001b[0;34m*\u001b[0m\u001b[0mC_b\u001b[0m\u001b[0;34m[\u001b[0m\u001b[0;36m0\u001b[0m\u001b[0;34m]\u001b[0m\u001b[0;34m)\u001b[0m\u001b[0;34m.\u001b[0m\u001b[0mreal\u001b[0m\u001b[0;34m,\u001b[0m\u001b[0mcomplex\u001b[0m\u001b[0;34m(\u001b[0m\u001b[0;34m*\u001b[0m\u001b[0mC_b\u001b[0m\u001b[0;34m[\u001b[0m\u001b[0;36m0\u001b[0m\u001b[0;34m]\u001b[0m\u001b[0;34m)\u001b[0m\u001b[0;34m.\u001b[0m\u001b[0mreal\u001b[0m\u001b[0;34m.\u001b[0m\u001b[0mimag\u001b[0m\u001b[0;34m]\u001b[0m\u001b[0;34m,\u001b[0m\u001b[0;34m*\u001b[0m\u001b[0mf_star\u001b[0m\u001b[0;34m]\u001b[0m\u001b[0;34m)\u001b[0m\u001b[0;34m\u001b[0m\u001b[0;34m\u001b[0m\u001b[0m\n\u001b[1;32m     39\u001b[0m         \u001b[0mx\u001b[0m\u001b[0;34m.\u001b[0m\u001b[0mrequires_grad\u001b[0m \u001b[0;34m=\u001b[0m \u001b[0;32mTrue\u001b[0m  \u001b[0;31m# setting requires grad to true in order to calculate\u001b[0m\u001b[0;34m\u001b[0m\u001b[0;34m\u001b[0m\u001b[0m\n\u001b[0;32m---> 40\u001b[0;31m         \u001b[0mu\u001b[0m \u001b[0;34m=\u001b[0m \u001b[0mmodel\u001b[0m\u001b[0;34m.\u001b[0m\u001b[0mforward\u001b[0m\u001b[0;34m(\u001b[0m\u001b[0mx\u001b[0m\u001b[0;34m)\u001b[0m\u001b[0;34m\u001b[0m\u001b[0;34m\u001b[0m\u001b[0m\n\u001b[0m\u001b[1;32m     41\u001b[0m         \u001b[0mpde_residual\u001b[0m \u001b[0;34m=\u001b[0m \u001b[0mself\u001b[0m\u001b[0;34m.\u001b[0m\u001b[0mpde\u001b[0m\u001b[0;34m(\u001b[0m\u001b[0mx\u001b[0m\u001b[0;34m,\u001b[0m \u001b[0mu\u001b[0m\u001b[0;34m,\u001b[0m \u001b[0;34m**\u001b[0m\u001b[0mkwargs\u001b[0m\u001b[0;34m)\u001b[0m\u001b[0;34m\u001b[0m\u001b[0;34m\u001b[0m\u001b[0m\n\u001b[1;32m     42\u001b[0m         \u001b[0mpde_residual\u001b[0m \u001b[0;34m=\u001b[0m \u001b[0mi_star\u001b[0m\u001b[0;34m(\u001b[0m\u001b[0mpde_residual\u001b[0m\u001b[0;34m)\u001b[0m\u001b[0;34m\u001b[0m\u001b[0;34m\u001b[0m\u001b[0m\n",
      "\u001b[0;32m~/PINNFramework/models/mlp.py\u001b[0m in \u001b[0;36mforward\u001b[0;34m(self, x)\u001b[0m\n\u001b[1;32m     27\u001b[0m         \u001b[0;32mfor\u001b[0m \u001b[0mi\u001b[0m \u001b[0;32min\u001b[0m \u001b[0mrange\u001b[0m\u001b[0;34m(\u001b[0m\u001b[0mlen\u001b[0m\u001b[0;34m(\u001b[0m\u001b[0mself\u001b[0m\u001b[0;34m.\u001b[0m\u001b[0mlinear_layers\u001b[0m\u001b[0;34m)\u001b[0m \u001b[0;34m-\u001b[0m \u001b[0;36m1\u001b[0m\u001b[0;34m)\u001b[0m\u001b[0;34m:\u001b[0m\u001b[0;34m\u001b[0m\u001b[0;34m\u001b[0m\u001b[0m\n\u001b[1;32m     28\u001b[0m             \u001b[0mx\u001b[0m \u001b[0;34m=\u001b[0m \u001b[0mself\u001b[0m\u001b[0;34m.\u001b[0m\u001b[0mlinear_layers\u001b[0m\u001b[0;34m[\u001b[0m\u001b[0mi\u001b[0m\u001b[0;34m]\u001b[0m\u001b[0;34m(\u001b[0m\u001b[0mx\u001b[0m\u001b[0;34m)\u001b[0m\u001b[0;34m\u001b[0m\u001b[0;34m\u001b[0m\u001b[0m\n\u001b[0;32m---> 29\u001b[0;31m             \u001b[0mx\u001b[0m \u001b[0;34m=\u001b[0m \u001b[0mself\u001b[0m\u001b[0;34m.\u001b[0m\u001b[0mactivation\u001b[0m\u001b[0;34m(\u001b[0m\u001b[0mx\u001b[0m\u001b[0;34m)\u001b[0m\u001b[0;34m\u001b[0m\u001b[0;34m\u001b[0m\u001b[0m\n\u001b[0m\u001b[1;32m     30\u001b[0m         \u001b[0mx\u001b[0m \u001b[0;34m=\u001b[0m \u001b[0mself\u001b[0m\u001b[0;34m.\u001b[0m\u001b[0mlinear_layers\u001b[0m\u001b[0;34m[\u001b[0m\u001b[0;34m-\u001b[0m\u001b[0;36m1\u001b[0m\u001b[0;34m]\u001b[0m\u001b[0;34m(\u001b[0m\u001b[0mx\u001b[0m\u001b[0;34m)\u001b[0m\u001b[0;34m\u001b[0m\u001b[0;34m\u001b[0m\u001b[0m\n\u001b[1;32m     31\u001b[0m         \u001b[0;32mreturn\u001b[0m \u001b[0mx\u001b[0m\u001b[0;34m\u001b[0m\u001b[0;34m\u001b[0m\u001b[0m\n",
      "\u001b[0;31mKeyboardInterrupt\u001b[0m: "
     ]
    }
   ],
   "source": [
    "class PDEDataset(Dataset):\n",
    "    def __init__(self, nf, lb, ub):\n",
    "        self.xf = lb + (ub - lb) * lhs(2, nf)\n",
    "\n",
    "    def __getitem__(self, idx):\n",
    "        \"\"\"\n",
    "        Returns data for initial state\n",
    "        \"\"\"\n",
    "        return Tensor(self.xf).float()\n",
    "\n",
    "    def __len__(self):\n",
    "        \"\"\"\n",
    "        There exists no batch processing. So the size is 1\n",
    "        \"\"\"\n",
    "        return 1\n",
    "\n",
    "\n",
    "if __name__ == \"__main__\":\n",
    "    # Domain bounds\n",
    "    lb = np.array([-5.0, 0.0])\n",
    "    ub = np.array([5.0, np.pi / 2])\n",
    "    # initial condition\n",
    "    ic_dataset = InitialConditionDataset(n0=50)\n",
    "    initial_condition = pf.InitialCondition(ic_dataset)\n",
    "    # boundary conditions\n",
    "    bc_dataset = BoundaryConditionDataset(nb=50, lb=lb, ub=ub)\n",
    "    periodic_bc_u = pf.PeriodicBC(bc_dataset, 0, \"u periodic boundary condition\")\n",
    "    periodic_bc_v = pf.PeriodicBC(bc_dataset, 1, \"v periodic boundary condition\")\n",
    "    periodic_bc_u_x = pf.PeriodicBC(bc_dataset, 0, \"u_x periodic boundary condition\", 1, 0)\n",
    "    periodic_bc_v_x = pf.PeriodicBC(bc_dataset, 1, \"v_x periodic boundary condition\", 1, 0)\n",
    "    # PDE\n",
    "    pde_dataset = PDEDataset(20000, lb, ub)\n",
    "\n",
    "\n",
    "    def schroedinger1d(x, u):\n",
    "        pred = u\n",
    "        u = pred[:, 0]\n",
    "        v = pred[:, 1]\n",
    "        print(\"x:\", x.shape)\n",
    "        print(\"u:\", v.shape)\n",
    "        grads = ones(u.shape, device=pred.device) # move to the same device as prediction\n",
    "        grad_u = grad(u, x, create_graph=True, grad_outputs=grads)[0]\n",
    "        grad_v = grad(v, x, create_graph=True, grad_outputs=grads)[0]\n",
    "\n",
    "        # calculate first order derivatives\n",
    "        u_x = grad_u[:, 0]\n",
    "        print(\"u_x\", u_x.shape)\n",
    "        u_t = grad_u[:, 1]\n",
    "\n",
    "        v_x = grad_v[:, 0]\n",
    "        v_t = grad_v[:, 1]\n",
    "\n",
    "        # calculate second order derivatives\n",
    "        grad_u_x = grad(u_x, x, create_graph=True, grad_outputs=grads)[0]\n",
    "        grad_v_x = grad(v_x, x, create_graph=True, grad_outputs=grads)[0]\n",
    "\n",
    "        u_xx = grad_u_x[:, 0]\n",
    "        print(\"u_xx\", u_xx.shape)\n",
    "        v_xx = grad_v_x[:, 0]\n",
    "        f_u = u_t + u_x#0.5 * v_xx + (u ** 2 + v ** 2) * v\n",
    "        print(\"f_u.shape\", f_u.shape)\n",
    "        f_v = v_t - 0.5 * u_xx - (u ** 2 + v ** 2) * u\n",
    "        print(f_u)\n",
    "        return stack([f_u, f_v], 1)  # concatenate real part and imaginary part\n",
    "\n",
    "\n",
    "    pde_loss = pf.PDELoss(pde_dataset, schroedinger1d)\n",
    "    model = pf.models.MLP(input_size=2, output_size=2, hidden_size=100, num_hidden=4, lb=lb, ub=ub)\n",
    "    pinn = pf.PINN(model, 2, 2, pde_loss, initial_condition, [periodic_bc_u,\n",
    "                                                              periodic_bc_v,\n",
    "                                                              periodic_bc_u_x,\n",
    "                                                              periodic_bc_v_x], use_gpu=False)\n",
    "    pinn.fit(200, 'Adam', 1e-3)"
   ]
  },
  {
   "cell_type": "code",
   "execution_count": 6,
   "metadata": {},
   "outputs": [
    {
     "data": {
      "image/png": "[encoded data removed]",
      "text/plain": [
       "<Figure size 432x288 with 2 Axes>"
      ]
     },
     "metadata": {
      "needs_background": "light"
     },
     "output_type": "display_data"
    }
   ],
   "source": [
    " # Plotting\n",
    "data = scipy.io.loadmat('/Users/juanesteban/PINNS/NeuralSolvers/examples/1D_Schroedinger/NLS.mat')\n",
    "t = data['tt'].flatten()[:, None]\n",
    "x = data['x'].flatten()[:, None]\n",
    "Exact = data['uu']\n",
    "Exact_u = np.real(Exact)\n",
    "Exact_v = np.imag(Exact)\n",
    "Exact_h = np.sqrt(Exact_u ** 2 + Exact_v ** 2)\n",
    "X, T = np.meshgrid(x, t)\n",
    "\n",
    "X_star = np.hstack((X.flatten()[:, None], T.flatten()[:, None]))\n",
    "u_star = Exact_u.T.flatten()[:, None]\n",
    "v_star = Exact_v.T.flatten()[:, None]\n",
    "h_star = Exact_h.T.flatten()[:, None]\n",
    "\n",
    "pred = model(Tensor(X_star).cpu())\n",
    "pred_u = pred[:, 0].detach().cpu().numpy()\n",
    "pred_v = pred[:, 1].detach().cpu().numpy()\n",
    "H_pred = np.sqrt(pred_u ** 2 + pred_v**2)\n",
    "H_pred = H_pred.reshape(X.shape)\n",
    "plt.imshow(pred_u.reshape(X.shape).T, interpolation='nearest', cmap='YlGnBu',\n",
    "              extent= [lb[1], ub[1], lb[0], ub[0]],\n",
    "              origin='lower', aspect='auto')\n",
    "plt.xlabel('Time $t$')\n",
    "plt.ylabel('Position $x$')\n",
    "plt.colorbar()\n",
    "plt.show()"
   ]
  },
  {
   "cell_type": "code",
   "execution_count": 7,
   "metadata": {},
   "outputs": [],
   "source": [
    "import torch\n",
    "from torch import Tensor as Tensor\n",
    "from torch.nn import Module as Module\n",
    "from torch.nn import MSELoss, L1Loss\n",
    "from PINNFramework.LossTerm import LossTerm\n",
    "\n",
    "\n",
    "class PDE_Loss(LossTerm):\n",
    "    def __init__(self, dataset, pde, norm='L2', weight=1.):\n",
    "        \"\"\"\n",
    "        Constructor of the PDE Loss\n",
    "        Args:\n",
    "            dataset (torch.utils.Dataset): dataset that provides the residual points\n",
    "            pde (function): function that represents residual of the PDE\n",
    "            norm: Norm used for calculation PDE loss\n",
    "            weight: Weighting for the loss term\n",
    "        \"\"\"\n",
    "        super(PDELoss, self).__init__(dataset, norm, weight)\n",
    "        self.dataset = dataset\n",
    "        self.pde = pde\n",
    "    def i_star(f_i):\n",
    "        C_b=torch.fft(f_i,1)\n",
    "        f_star=[complex(*C_b[j])/(2*np.pi*j)*\n",
    "                np.exp(2*np.pi*np.exp(complex(0,1)*j*2)) for j in range(1,len(C_b))]\n",
    "        return [complex(*C_b[0]),*f_star]\n",
    "    def __call__(self, x: Tensor, model: Module, **kwargs):\n",
    "        \"\"\"\n",
    "        Call function of the PDE loss. Calculates the norm of the PDE residual\n",
    "        x: residual points\n",
    "        model: model that predicts the solution of the PDE\n",
    "        \"\"\"\n",
    "        x.requires_grad = True  # setting requires grad to true in order to calculate\n",
    "        u = model.forward(x)\n",
    "        pde_residual = self.pde(x, u, **kwargs)\n",
    "        #pde_residual = i_star(pde_residual)#torch.fft(pde_residual,1)\n",
    "        zeros = torch.zeros(pde_residual.shape, device=pde_residual.device)\n",
    "        return self.norm(pde_residual, zeros)"
   ]
  },
  {
   "cell_type": "code",
   "execution_count": 8,
   "metadata": {},
   "outputs": [
    {
     "name": "stdout",
     "output_type": "stream",
     "text": [
      "x: torch.Size([20000, 2])\n",
      "u: torch.Size([20000])\n",
      "u_x torch.Size([20000])\n",
      "u_xx torch.Size([20000])\n",
      "f_u.shape torch.Size([20000])\n",
      "PINN Loss 57.99028655533938 Epoch 0 from 2\n",
      "x: torch.Size([20000, 2])\n",
      "u: torch.Size([20000])\n",
      "u_x torch.Size([20000])\n",
      "u_xx torch.Size([20000])\n",
      "f_u.shape torch.Size([20000])\n",
      "PINN Loss 1075.405699904906 Epoch 1 from 2\n",
      "x: torch.Size([20000, 2])\n",
      "u: torch.Size([20000])\n",
      "u_x torch.Size([20000])\n",
      "u_xx torch.Size([20000])\n",
      "f_u.shape torch.Size([20000])\n",
      "x: torch.Size([20000, 2])\n",
      "u: torch.Size([20000])\n",
      "u_x torch.Size([20000])\n",
      "u_xx torch.Size([20000])\n",
      "f_u.shape torch.Size([20000])\n",
      "x: torch.Size([20000, 2])\n",
      "u: torch.Size([20000])\n",
      "u_x torch.Size([20000])\n",
      "u_xx torch.Size([20000])\n",
      "f_u.shape torch.Size([20000])\n",
      "x: torch.Size([20000, 2])\n",
      "u: torch.Size([20000])\n",
      "u_x torch.Size([20000])\n",
      "u_xx torch.Size([20000])\n",
      "f_u.shape torch.Size([20000])\n",
      "x: torch.Size([20000, 2])\n",
      "u: torch.Size([20000])\n",
      "u_x torch.Size([20000])\n",
      "u_xx torch.Size([20000])\n",
      "f_u.shape torch.Size([20000])\n",
      "x: torch.Size([20000, 2])\n",
      "u: torch.Size([20000])\n",
      "u_x torch.Size([20000])\n",
      "u_xx torch.Size([20000])\n",
      "f_u.shape torch.Size([20000])\n",
      "x: torch.Size([20000, 2])\n",
      "u: torch.Size([20000])\n",
      "u_x torch.Size([20000])\n",
      "u_xx torch.Size([20000])\n",
      "f_u.shape torch.Size([20000])\n",
      "x: torch.Size([20000, 2])\n",
      "u: torch.Size([20000])\n",
      "u_x torch.Size([20000])\n",
      "u_xx torch.Size([20000])\n",
      "f_u.shape torch.Size([20000])\n",
      "x: torch.Size([20000, 2])\n",
      "u: torch.Size([20000])\n",
      "u_x torch.Size([20000])\n",
      "u_xx torch.Size([20000])\n",
      "f_u.shape torch.Size([20000])\n",
      "x: torch.Size([20000, 2])\n",
      "u: torch.Size([20000])\n",
      "u_x torch.Size([20000])\n",
      "u_xx torch.Size([20000])\n",
      "f_u.shape torch.Size([20000])\n",
      "x: torch.Size([20000, 2])\n",
      "u: torch.Size([20000])\n",
      "u_x torch.Size([20000])\n",
      "u_xx torch.Size([20000])\n",
      "f_u.shape torch.Size([20000])\n",
      "x: torch.Size([20000, 2])\n",
      "u: torch.Size([20000])\n",
      "u_x torch.Size([20000])\n",
      "u_xx torch.Size([20000])\n",
      "f_u.shape torch.Size([20000])\n",
      "x: torch.Size([20000, 2])\n",
      "u: torch.Size([20000])\n",
      "u_x torch.Size([20000])\n",
      "u_xx torch.Size([20000])\n",
      "f_u.shape torch.Size([20000])\n",
      "x: torch.Size([20000, 2])\n",
      "u: torch.Size([20000])\n",
      "u_x torch.Size([20000])\n",
      "u_xx torch.Size([20000])\n",
      "f_u.shape torch.Size([20000])\n",
      "x: torch.Size([20000, 2])\n",
      "u: torch.Size([20000])\n",
      "u_x torch.Size([20000])\n",
      "u_xx torch.Size([20000])\n",
      "f_u.shape torch.Size([20000])\n",
      "x: torch.Size([20000, 2])\n",
      "u: torch.Size([20000])\n",
      "u_x torch.Size([20000])\n",
      "u_xx torch.Size([20000])\n",
      "f_u.shape torch.Size([20000])\n",
      "x: torch.Size([20000, 2])\n",
      "u: torch.Size([20000])\n",
      "u_x torch.Size([20000])\n",
      "u_xx torch.Size([20000])\n",
      "f_u.shape torch.Size([20000])\n",
      "x: torch.Size([20000, 2])\n",
      "u: torch.Size([20000])\n",
      "u_x torch.Size([20000])\n",
      "u_xx torch.Size([20000])\n",
      "f_u.shape torch.Size([20000])\n",
      "x: torch.Size([20000, 2])\n",
      "u: torch.Size([20000])\n",
      "u_x torch.Size([20000])\n",
      "u_xx torch.Size([20000])\n",
      "f_u.shape torch.Size([20000])\n",
      "x: torch.Size([20000, 2])\n",
      "u: torch.Size([20000])\n",
      "u_x torch.Size([20000])\n",
      "u_xx torch.Size([20000])\n",
      "f_u.shape torch.Size([20000])\n",
      "After LBFGS-B: PINN Loss 1075.405699904906 Epoch 1 from 2\n"
     ]
    }
   ],
   "source": [
    "class PDEDataset(Dataset):\n",
    "    def __init__(self, nf, lb, ub):\n",
    "        self.xf = lb + (ub - lb) * lhs(2, nf)\n",
    "\n",
    "    def __getitem__(self, idx):\n",
    "        \"\"\"\n",
    "        Returns data for initial state\n",
    "        \"\"\"\n",
    "        return Tensor(self.xf).float()\n",
    "\n",
    "    def __len__(self):\n",
    "        \"\"\"\n",
    "        There exists no batch processing. So the size is 1\n",
    "        \"\"\"\n",
    "        return 1\n",
    "\n",
    "\n",
    "if __name__ == \"__main__\":\n",
    "    # Domain bounds\n",
    "    lb = np.array([-5.0, 0.0])\n",
    "    ub = np.array([5.0, np.pi / 2])\n",
    "    # initial condition\n",
    "    ic_dataset = InitialConditionDataset(n0=50)\n",
    "    initial_condition = pf.InitialCondition(ic_dataset)\n",
    "    # boundary conditions\n",
    "    bc_dataset = BoundaryConditionDataset(nb=50, lb=lb, ub=ub)\n",
    "    periodic_bc_u = pf.PeriodicBC(bc_dataset, 0, \"u periodic boundary condition\")\n",
    "    periodic_bc_v = pf.PeriodicBC(bc_dataset, 1, \"v periodic boundary condition\")\n",
    "    periodic_bc_u_x = pf.PeriodicBC(bc_dataset, 0, \"u_x periodic boundary condition\", 1, 0)\n",
    "    periodic_bc_v_x = pf.PeriodicBC(bc_dataset, 1, \"v_x periodic boundary condition\", 1, 0)\n",
    "    # PDE\n",
    "    pde_dataset = PDEDataset(20000, lb, ub)\n",
    "\n",
    "\n",
    "    def schroedinger1d(x, u):\n",
    "        pred = u\n",
    "        u = pred[:, 0]\n",
    "        v = pred[:, 1]\n",
    "        print(\"x:\", x.shape)\n",
    "        print(\"u:\", v.shape)\n",
    "        grads = ones(u.shape, device=pred.device) # move to the same device as prediction\n",
    "        grad_u = grad(u, x, create_graph=True, grad_outputs=grads)[0]\n",
    "        grad_v = grad(v, x, create_graph=True, grad_outputs=grads)[0]\n",
    "\n",
    "        # calculate first order derivatives\n",
    "        u_x = grad_u[:, 0]\n",
    "        print(\"u_x\", u_x.shape)\n",
    "        u_t = grad_u[:, 1]\n",
    "\n",
    "        v_x = grad_v[:, 0]\n",
    "        v_t = grad_v[:, 1]\n",
    "\n",
    "        # calculate second order derivatives\n",
    "        grad_u_x = grad(u_x, x, create_graph=True, grad_outputs=grads)[0]\n",
    "        grad_v_x = grad(v_x, x, create_graph=True, grad_outputs=grads)[0]\n",
    "\n",
    "        u_xx = grad_u_x[:, 0]\n",
    "        print(\"u_xx\", u_xx.shape)\n",
    "        v_xx = grad_v_x[:, 0]\n",
    "        f_u = u_t + u_x#0.5 * v_xx + (u ** 2 + v ** 2) * v\n",
    "        print(\"f_u.shape\", f_u.shape)\n",
    "        f_v = 0*v_t# - 0.5 * u_xx - (u ** 2 + v ** 2) * u\n",
    "        return stack([f_u, f_v], 1)  # concatenate real part and imaginary part\n",
    "\n",
    "\n",
    "    pde_loss = pf.PDELoss(pde_dataset, schroedinger1d)\n",
    "    model = pf.models.MLP(input_size=2, output_size=2, hidden_size=100, num_hidden=4, lb=lb, ub=ub)\n",
    "    pinn = pf.PINN(model, 2, 2, pde_loss, initial_condition, [periodic_bc_u,\n",
    "                                                              periodic_bc_v,\n",
    "                                                              periodic_bc_u_x,\n",
    "                                                              periodic_bc_v_x], use_gpu=False)\n",
    "    pinn.fit(2, 'Adam', 1e-3)"
   ]
  },
  {
   "cell_type": "code",
   "execution_count": 9,
   "metadata": {},
   "outputs": [
    {
     "data": {
      "text/plain": [
       "tensor([[0.2541, 0.7265],\n",
       "        [0.1515, 0.6304],\n",
       "        [0.7618, 0.8249],\n",
       "        [0.6845, 0.2284]])"
      ]
     },
     "execution_count": 9,
     "metadata": {},
     "output_type": "execute_result"
    }
   ],
   "source": [
    "inp =  torch.rand([4, 2])\n",
    "C_b=torch.fft(inp,1)\n",
    "inp"
   ]
  },
  {
   "cell_type": "code",
   "execution_count": 10,
   "metadata": {},
   "outputs": [],
   "source": [
    "def FT(f_i,x):\n",
    "    C_b=torch.fft(f_i,1)\n",
    "    f_star = np.sum([complex(*C_b[j])*np.exp(np.pi*complex(0,1)*j*x) for j in range(len(C_b))])\n",
    "    return f_star"
   ]
  },
  {
   "cell_type": "code",
   "execution_count": 11,
   "metadata": {},
   "outputs": [
    {
     "data": {
      "text/plain": [
       "(3.0470686554908757+3.2995018959045406j)"
      ]
     },
     "execution_count": 11,
     "metadata": {},
     "output_type": "execute_result"
    }
   ],
   "source": [
    "FT(inp,1)"
   ]
  },
  {
   "cell_type": "code",
   "execution_count": 12,
   "metadata": {},
   "outputs": [
    {
     "data": {
      "text/plain": [
       "tensor([[ 1.8518,  2.4102],\n",
       "        [-0.1056,  0.4346],\n",
       "        [ 0.1798,  0.6926],\n",
       "        [-0.9098, -0.6313]])"
      ]
     },
     "execution_count": 12,
     "metadata": {},
     "output_type": "execute_result"
    }
   ],
   "source": [
    "torch.fft(inp,1)"
   ]
  },
  {
   "cell_type": "code",
   "execution_count": 13,
   "metadata": {},
   "outputs": [
    {
     "data": {
      "text/plain": [
       "(1.784220259531072+2.856485235371169j)"
      ]
     },
     "execution_count": 13,
     "metadata": {},
     "output_type": "execute_result"
    }
   ],
   "source": [
    "C_b=torch.fft(inp,1)\n",
    "x=0.3\n",
    "np.sum([complex(*C_b[j])*np.exp(np.pi*complex(0,1)*j*x) for j in range(len(C_b))])"
   ]
  },
  {
   "cell_type": "code",
   "execution_count": null,
   "metadata": {},
   "outputs": [],
   "source": []
  },
  {
   "cell_type": "code",
   "execution_count": null,
   "metadata": {},
   "outputs": [],
   "source": []
  }
 ],
 "metadata": {
  "kernelspec": {
   "display_name": "Python 3",
   "language": "python",
   "name": "python3"
  },
  "language_info": {
   "codemirror_mode": {
    "name": "ipython",
    "version": 3
   },
   "file_extension": ".py",
   "mimetype": "text/x-python",
   "name": "python",
   "nbconvert_exporter": "python",
   "pygments_lexer": "ipython3",
   "version": "3.7.3"
  }
 },
 "nbformat": 4,
 "nbformat_minor": 2
}
