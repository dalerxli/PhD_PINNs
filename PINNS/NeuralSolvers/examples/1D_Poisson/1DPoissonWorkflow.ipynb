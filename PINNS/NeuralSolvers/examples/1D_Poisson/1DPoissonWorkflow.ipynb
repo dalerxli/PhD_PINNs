{
 "cells": [
  {
   "cell_type": "code",
   "execution_count": 20,
   "metadata": {},
   "outputs": [
    {
     "name": "stderr",
     "output_type": "stream",
     "text": [
      "\r",
      " 18%|█▊        | 18207/100000 [01:40<07:21, 185.45it/s]"
     ]
    }
   ],
   "source": [
    "import os\n",
    "#print(os.getcwd())\n",
    "import sys\n",
    "sys.path.append('..') # examples\n",
    "sys.path.append('../..') # PINNFramework etc.\n",
    "import matplotlib.pyplot as plt\n",
    "import torch\n",
    "from tqdm.notebook import tqdm"
   ]
  },
  {
   "cell_type": "code",
   "execution_count": 2,
   "metadata": {},
   "outputs": [],
   "source": [
    "from PINNFramework.PINN import Interface\n",
    "from PINNFramework.models.mlp import MLP"
   ]
  },
  {
   "cell_type": "code",
   "execution_count": 3,
   "metadata": {},
   "outputs": [],
   "source": [
    "from torch.autograd import grad\n",
    "import torch\n",
    "import numpy as np\n",
    "import torch.nn as nn\n",
    "import scipy.io\n",
    "from pyDOE import lhs\n",
    "import torch.optim as optim"
   ]
  },
  {
   "cell_type": "code",
   "execution_count": 4,
   "metadata": {},
   "outputs": [],
   "source": [
    "class Poisson1DPINN(Interface):\n",
    "    def __init__(self, model, input_d = 1, output_d = 1, lb = [0], ub = [1], C = 1):\n",
    "        super().__init__(model,input_d,output_d)\n",
    "        self.lb = lb\n",
    "        self.ub = ub\n",
    "        self.C = C\n",
    "\n",
    "\n",
    "    def derivatives(self, u, x):\n",
    "        grads= torch.ones(x.shape[0])\n",
    "        pred_u = u[:,0]\n",
    "        J_u = grad(pred_u, x, create_graph=True, grad_outputs=grads)[0]\n",
    "        \n",
    "        #calculate first order derivatives\n",
    "        u_x = J_u[:,0]\n",
    "\n",
    "        pred_derivatives = torch.stack([u_x],1)\n",
    "        return pred_derivatives\n",
    "    \n",
    "    \n",
    "    def pde(self, x, u, derivatives):\n",
    "        u_x = derivatives[:,0]\n",
    "        _u = u[:,0]\n",
    "        pde_residual = u_x + self.C**2 * _u #Du - g(x)\n",
    "        return pde_residual\n",
    "  \n",
    "    \n",
    "    \n",
    "    def initial_loss(self, x, u0):\n",
    "        \"\"\"\n",
    "        Supervised loss for training the initial condition \n",
    "        \"\"\"\n",
    "        x = x.view(-1)\n",
    "\n",
    "        UV = self.forward(x)\n",
    "        u = UV[:, 0]\n",
    "\n",
    "        u0 = u0.view(-1)\n",
    "\n",
    "\n",
    "        return torch.mean((u0 - u) ** 2)\n",
    "    \n",
    "    \n",
    "    def input_normalization(self,x):\n",
    "        \"\"\"\n",
    "        Implementation of min-max scaling in range of [-1,1]\n",
    "        \"\"\"\n",
    "        xx = 2.0 * (x - self.lb) / (self.ub - self.lb) - 1.0\n",
    "        return xx"
   ]
  },
  {
   "cell_type": "code",
   "execution_count": 5,
   "metadata": {},
   "outputs": [],
   "source": [
    "\n",
    "# Poisson equation\n",
    "g = lambda x, C : np.sin(C*x)\n",
    "h = lambda x, C : -C**2 * g(x,C)\n",
    "C = 1"
   ]
  },
  {
   "cell_type": "code",
   "execution_count": 6,
   "metadata": {},
   "outputs": [],
   "source": [
    "# bounds\n",
    "lb = torch.tensor([0.0])\n",
    "ub = torch.tensor([1.0])\n",
    "\n",
    "# boundary conditions at x=0 and x=1\n",
    "coord_bc = [0, 1]\n",
    "data_bc = [h(0,1), h(1,1)]\n",
    "\n",
    "# residual points\n",
    "x_f = np.random.uniform(0,1, size = 100)"
   ]
  },
  {
   "cell_type": "code",
   "execution_count": 7,
   "metadata": {},
   "outputs": [],
   "source": [
    "pinn_model = MLP(input_size=1, output_size=1, num_hidden=3, hidden_size=100)\n",
    "\n",
    "pinn_model = nn.Sequential(\n",
    "          nn.Linear(1,100),\n",
    "          nn.Tanh(),\n",
    "          nn.Linear(100,100),\n",
    "          nn.Tanh(),\n",
    "          nn.Linear(100,100),\n",
    "          nn.Tanh(),\n",
    "          nn.Linear(100,100),\n",
    "          nn.Tanh(),\n",
    "          nn.Linear(100,1)\n",
    "        )"
   ]
  },
  {
   "cell_type": "code",
   "execution_count": 8,
   "metadata": {},
   "outputs": [],
   "source": [
    "model = Poisson1DPINN(model = pinn_model, ub=ub, lb = lb)"
   ]
  },
  {
   "cell_type": "code",
   "execution_count": null,
   "metadata": {},
   "outputs": [],
   "source": []
  },
  {
   "cell_type": "code",
   "execution_count": 9,
   "metadata": {},
   "outputs": [],
   "source": [
    "x = {\"x_0\": torch.tensor(coord_bc).float().view(-1,1), \"x_f\":torch.tensor(x_f).float().view(-1,1), \"x_b\": torch.tensor(coord_bc).float().view(-1,1)}\n",
    "data_ub = torch.tensor(data_bc).float().view(-1,1)"
   ]
  },
  {
   "cell_type": "code",
   "execution_count": 10,
   "metadata": {},
   "outputs": [],
   "source": [
    "optimizer = optim.Adam(model.parameters(),lr=1e-5)"
   ]
  },
  {
   "cell_type": "code",
   "execution_count": 25,
   "metadata": {},
   "outputs": [
    {
     "data": {
      "application/vnd.jupyter.widget-view+json": {
       "model_id": "362fb32691e14744a06ba928164d0c0f",
       "version_major": 2,
       "version_minor": 0
      },
      "text/plain": [
       "HBox(children=(IntProgress(value=1, bar_style='info', max=1), HTML(value='')))"
      ]
     },
     "metadata": {},
     "output_type": "display_data"
    },
    {
     "ename": "KeyboardInterrupt",
     "evalue": "",
     "output_type": "error",
     "traceback": [
      "\u001b[0;31m---------------------------------------------------------------------------\u001b[0m",
      "\u001b[0;31mKeyboardInterrupt\u001b[0m                         Traceback (most recent call last)",
      "\u001b[0;32m<ipython-input-25-ef04cea53529>\u001b[0m in \u001b[0;36m<module>\u001b[0;34m\u001b[0m\n\u001b[1;32m      4\u001b[0m \u001b[0;32mfor\u001b[0m \u001b[0mepoch\u001b[0m \u001b[0;32min\u001b[0m \u001b[0mrange\u001b[0m\u001b[0;34m(\u001b[0m\u001b[0mnum_epochs\u001b[0m\u001b[0;34m)\u001b[0m\u001b[0;34m:\u001b[0m\u001b[0;34m\u001b[0m\u001b[0;34m\u001b[0m\u001b[0m\n\u001b[1;32m      5\u001b[0m     \u001b[0moptimizer\u001b[0m\u001b[0;34m.\u001b[0m\u001b[0mzero_grad\u001b[0m\u001b[0;34m(\u001b[0m\u001b[0;34m)\u001b[0m\u001b[0;34m\u001b[0m\u001b[0;34m\u001b[0m\u001b[0m\n\u001b[0;32m----> 6\u001b[0;31m     \u001b[0mloss\u001b[0m \u001b[0;34m=\u001b[0m \u001b[0mmodel\u001b[0m\u001b[0;34m.\u001b[0m\u001b[0mpinn_loss\u001b[0m\u001b[0;34m(\u001b[0m\u001b[0mx\u001b[0m\u001b[0;34m,\u001b[0m \u001b[0mdata_ub\u001b[0m\u001b[0;34m,\u001b[0m \u001b[0mdata_ub\u001b[0m \u001b[0;34m,\u001b[0m\u001b[0minterpolation_criterion\u001b[0m\u001b[0;34m=\u001b[0m\u001b[0mnn\u001b[0m\u001b[0;34m.\u001b[0m\u001b[0mMSELoss\u001b[0m\u001b[0;34m(\u001b[0m\u001b[0;34m)\u001b[0m\u001b[0;34m,\u001b[0m \u001b[0mboundary_criterion\u001b[0m\u001b[0;34m=\u001b[0m\u001b[0mnn\u001b[0m\u001b[0;34m.\u001b[0m\u001b[0mMSELoss\u001b[0m\u001b[0;34m(\u001b[0m\u001b[0;34m)\u001b[0m\u001b[0;34m,\u001b[0m \u001b[0mpde_norm\u001b[0m\u001b[0;34m=\u001b[0m\u001b[0mnn\u001b[0m\u001b[0;34m.\u001b[0m\u001b[0mMSELoss\u001b[0m\u001b[0;34m(\u001b[0m\u001b[0;34m)\u001b[0m\u001b[0;34m)\u001b[0m\u001b[0;34m\u001b[0m\u001b[0;34m\u001b[0m\u001b[0m\n\u001b[0m\u001b[1;32m      7\u001b[0m     \u001b[0mloss\u001b[0m\u001b[0;34m.\u001b[0m\u001b[0mbackward\u001b[0m\u001b[0;34m(\u001b[0m\u001b[0;34m)\u001b[0m\u001b[0;34m\u001b[0m\u001b[0;34m\u001b[0m\u001b[0m\n\u001b[1;32m      8\u001b[0m     \u001b[0moptimizer\u001b[0m\u001b[0;34m.\u001b[0m\u001b[0mstep\u001b[0m\u001b[0;34m(\u001b[0m\u001b[0;34m)\u001b[0m\u001b[0;34m\u001b[0m\u001b[0;34m\u001b[0m\u001b[0m\n",
      "\u001b[0;32m~/Code/NeuralSolvers/PINNFramework/PINN.py\u001b[0m in \u001b[0;36mpinn_loss\u001b[0;34m(self, x, ex_u, boundary_u, interpolation_criterion, boundary_criterion, pde_norm, lambda_0, lambda_b, lambda_f)\u001b[0m\n\u001b[1;32m     35\u001b[0m         \u001b[0mu_f\u001b[0m \u001b[0;34m=\u001b[0m \u001b[0mprediction_u\u001b[0m\u001b[0;34m[\u001b[0m\u001b[0;34m-\u001b[0m\u001b[0mlen_xf\u001b[0m\u001b[0;34m:\u001b[0m\u001b[0;34m]\u001b[0m\u001b[0;34m\u001b[0m\u001b[0;34m\u001b[0m\u001b[0m\n\u001b[1;32m     36\u001b[0m \u001b[0;34m\u001b[0m\u001b[0m\n\u001b[0;32m---> 37\u001b[0;31m         \u001b[0mpred_derivatives\u001b[0m \u001b[0;34m=\u001b[0m \u001b[0mself\u001b[0m\u001b[0;34m.\u001b[0m\u001b[0mderivatives\u001b[0m\u001b[0;34m(\u001b[0m\u001b[0mprediction_u\u001b[0m\u001b[0;34m,\u001b[0m \u001b[0minput_x\u001b[0m\u001b[0;34m)\u001b[0m\u001b[0;34m\u001b[0m\u001b[0;34m\u001b[0m\u001b[0m\n\u001b[0m\u001b[1;32m     38\u001b[0m         \u001b[0ml_0\u001b[0m \u001b[0;34m=\u001b[0m \u001b[0mself\u001b[0m\u001b[0;34m.\u001b[0m\u001b[0minterpolation_loss\u001b[0m\u001b[0;34m(\u001b[0m\u001b[0mu_0\u001b[0m\u001b[0;34m,\u001b[0m \u001b[0mex_u\u001b[0m\u001b[0;34m,\u001b[0m\u001b[0minterpolation_criterion\u001b[0m\u001b[0;34m)\u001b[0m\u001b[0;34m\u001b[0m\u001b[0;34m\u001b[0m\u001b[0m\n\u001b[1;32m     39\u001b[0m         \u001b[0ml_b\u001b[0m \u001b[0;34m=\u001b[0m \u001b[0mself\u001b[0m\u001b[0;34m.\u001b[0m\u001b[0mboundary_loss\u001b[0m\u001b[0;34m(\u001b[0m\u001b[0mu_b\u001b[0m\u001b[0;34m,\u001b[0m \u001b[0mboundary_u\u001b[0m\u001b[0;34m,\u001b[0m \u001b[0mboundary_criterion\u001b[0m\u001b[0;34m)\u001b[0m\u001b[0;34m\u001b[0m\u001b[0;34m\u001b[0m\u001b[0m\n",
      "\u001b[0;32m<ipython-input-4-02fd89d7cbed>\u001b[0m in \u001b[0;36mderivatives\u001b[0;34m(self, u, x)\u001b[0m\n\u001b[1;32m     10\u001b[0m         \u001b[0mgrads\u001b[0m\u001b[0;34m=\u001b[0m \u001b[0mtorch\u001b[0m\u001b[0;34m.\u001b[0m\u001b[0mones\u001b[0m\u001b[0;34m(\u001b[0m\u001b[0mx\u001b[0m\u001b[0;34m.\u001b[0m\u001b[0mshape\u001b[0m\u001b[0;34m[\u001b[0m\u001b[0;36m0\u001b[0m\u001b[0;34m]\u001b[0m\u001b[0;34m)\u001b[0m\u001b[0;34m\u001b[0m\u001b[0;34m\u001b[0m\u001b[0m\n\u001b[1;32m     11\u001b[0m         \u001b[0mpred_u\u001b[0m \u001b[0;34m=\u001b[0m \u001b[0mu\u001b[0m\u001b[0;34m[\u001b[0m\u001b[0;34m:\u001b[0m\u001b[0;34m,\u001b[0m\u001b[0;36m0\u001b[0m\u001b[0;34m]\u001b[0m\u001b[0;34m\u001b[0m\u001b[0;34m\u001b[0m\u001b[0m\n\u001b[0;32m---> 12\u001b[0;31m         \u001b[0mJ_u\u001b[0m \u001b[0;34m=\u001b[0m \u001b[0mgrad\u001b[0m\u001b[0;34m(\u001b[0m\u001b[0mpred_u\u001b[0m\u001b[0;34m,\u001b[0m \u001b[0mx\u001b[0m\u001b[0;34m,\u001b[0m \u001b[0mcreate_graph\u001b[0m\u001b[0;34m=\u001b[0m\u001b[0;32mTrue\u001b[0m\u001b[0;34m,\u001b[0m \u001b[0mgrad_outputs\u001b[0m\u001b[0;34m=\u001b[0m\u001b[0mgrads\u001b[0m\u001b[0;34m)\u001b[0m\u001b[0;34m[\u001b[0m\u001b[0;36m0\u001b[0m\u001b[0;34m]\u001b[0m\u001b[0;34m\u001b[0m\u001b[0;34m\u001b[0m\u001b[0m\n\u001b[0m\u001b[1;32m     13\u001b[0m \u001b[0;34m\u001b[0m\u001b[0m\n\u001b[1;32m     14\u001b[0m         \u001b[0;31m#calculate first order derivatives\u001b[0m\u001b[0;34m\u001b[0m\u001b[0;34m\u001b[0m\u001b[0;34m\u001b[0m\u001b[0m\n",
      "\u001b[0;32m/usr/local/lib/python3.7/site-packages/torch/autograd/__init__.py\u001b[0m in \u001b[0;36mgrad\u001b[0;34m(outputs, inputs, grad_outputs, retain_graph, create_graph, only_inputs, allow_unused)\u001b[0m\n\u001b[1;32m    190\u001b[0m     return Variable._execution_engine.run_backward(\n\u001b[1;32m    191\u001b[0m         \u001b[0moutputs\u001b[0m\u001b[0;34m,\u001b[0m \u001b[0mgrad_outputs\u001b[0m\u001b[0;34m,\u001b[0m \u001b[0mretain_graph\u001b[0m\u001b[0;34m,\u001b[0m \u001b[0mcreate_graph\u001b[0m\u001b[0;34m,\u001b[0m\u001b[0;34m\u001b[0m\u001b[0;34m\u001b[0m\u001b[0m\n\u001b[0;32m--> 192\u001b[0;31m         inputs, allow_unused)\n\u001b[0m\u001b[1;32m    193\u001b[0m \u001b[0;34m\u001b[0m\u001b[0m\n\u001b[1;32m    194\u001b[0m \u001b[0;34m\u001b[0m\u001b[0m\n",
      "\u001b[0;31mKeyboardInterrupt\u001b[0m: "
     ]
    }
   ],
   "source": [
    "pbar = tqdm()\n",
    "num_epochs = 100000\n",
    "pbar.reset(total=num_epochs)\n",
    "for epoch in range(num_epochs):\n",
    "    optimizer.zero_grad()\n",
    "    loss = model.pinn_loss(x, data_ub, data_ub ,interpolation_criterion=nn.MSELoss(), boundary_criterion=nn.MSELoss(), pde_norm=nn.MSELoss())\n",
    "    loss.backward()\n",
    "    optimizer.step()\n",
    "    pbar.set_description(\"Loss %10f\" % loss.item())\n",
    "    pbar.update()\n",
    "pbar.refresh()"
   ]
  },
  {
   "cell_type": "code",
   "execution_count": 28,
   "metadata": {},
   "outputs": [
    {
     "data": {
      "text/plain": [
       "[<matplotlib.lines.Line2D at 0x132122690>]"
      ]
     },
     "execution_count": 28,
     "metadata": {},
     "output_type": "execute_result"
    },
    {
     "data": {
      "image/png": "[encoded data removed]",
      "text/plain": [
       "<Figure size 432x288 with 1 Axes>"
      ]
     },
     "metadata": {
      "needs_background": "light"
     },
     "output_type": "display_data"
    }
   ],
   "source": [
    "with torch.no_grad():\n",
    "    y_hat = model(torch.tensor(x_f).float().view(-1,1))\n",
    "    \n",
    "plt.plot(x_f,y_hat.cpu().numpy(),'.')"
   ]
  }
 ],
 "metadata": {
  "kernelspec": {
   "display_name": "Python 3",
   "language": "python",
   "name": "python3"
  },
  "language_info": {
   "codemirror_mode": {
    "name": "ipython",
    "version": 3
   },
   "file_extension": ".py",
   "mimetype": "text/x-python",
   "name": "python",
   "nbconvert_exporter": "python",
   "pygments_lexer": "ipython3",
   "version": "3.7.4"
  }
 },
 "nbformat": 4,
 "nbformat_minor": 2
}
